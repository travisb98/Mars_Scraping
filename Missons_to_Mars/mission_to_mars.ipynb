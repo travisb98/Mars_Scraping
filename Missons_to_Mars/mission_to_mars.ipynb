{
 "metadata": {
  "language_info": {
   "codemirror_mode": {
    "name": "ipython",
    "version": 3
   },
   "file_extension": ".py",
   "mimetype": "text/x-python",
   "name": "python",
   "nbconvert_exporter": "python",
   "pygments_lexer": "ipython3",
   "version": "3.6.10-final"
  },
  "orig_nbformat": 2,
  "kernelspec": {
   "name": "python3",
   "display_name": "Python 3.6.10 64-bit ('PythonData': conda)",
   "metadata": {
    "interpreter": {
     "hash": "7e7c916c673641125590bd307b68bb4342787996dc085909d7e5c72ee4d13010"
    }
   }
  }
 },
 "nbformat": 4,
 "nbformat_minor": 2,
 "cells": [
  {
   "cell_type": "code",
   "execution_count": 44,
   "metadata": {},
   "outputs": [],
   "source": [
    "from splinter import Browser\n",
    "from bs4 import BeautifulSoup as bs\n",
    "import pandas as pd\n",
    "import pprint\n",
    "import time"
   ]
  },
  {
   "cell_type": "code",
   "execution_count": 45,
   "metadata": {},
   "outputs": [],
   "source": [
    "############ defining the urls needed\n",
    "\n",
    "####---------------------------------------\n",
    "##url for the Nasa news site\n",
    "nasa_news_url = \"https://mars.nasa.gov/news/?page=0&per_page=40&order=publish_date+desc%2Ccreated_at+desc&search=&category=19%2C165%2C184%2C204&blank_scope=Latest\"\n",
    "\n",
    "####---------------------------------------\n",
    "##urls for the jpl site\n",
    "\n",
    "#base url for jpl site\n",
    "jpl_base_url=\"https://www.jpl.nasa.gov\"\n",
    "\n",
    "#url for \"Mars\" search for jpl\n",
    "jpl_mars_url=jpl_base_url+\"/spaceimages/?search=&category=Mars\"\n",
    "\n",
    "####---------------------------------------\n",
    "##url for space facts page\n",
    "mars_facts_url=\"https://space-facts.com/mars/\"\n",
    "\n",
    "####---------------------------------------\n",
    "##urls for hemisphere data\n",
    "\n",
    "#base url for hemisphere site\n",
    "hem_base_url=\"https://astrogeology.usgs.gov\"\n",
    "\n",
    "#page we'll use to access each hemisphere page\n",
    "hem_url=hem_base_url+\"/search/results?q=hemisphere+enhanced&k1=target&v1=Mars\"\n"
   ]
  },
  {
   "cell_type": "code",
   "execution_count": 46,
   "metadata": {},
   "outputs": [],
   "source": [
    "#using splinter since requests is only returning partial results\n",
    "executable_path = {'executable_path': \"C:/Program Files (x86)/Chrome Driver/chromedriver.exe\"}\n",
    "\n",
    "browser = Browser('chrome', executable_path, headless=False)\n"
   ]
  },
  {
   "cell_type": "code",
   "execution_count": 47,
   "metadata": {},
   "outputs": [
    {
     "output_type": "stream",
     "name": "stdout",
     "text": [
      "--------\n",
      "--------\n",
      "--------\n",
      "--------\n"
     ]
    },
    {
     "output_type": "execute_result",
     "data": {
      "text/plain": [
       "[{'title': 'Cerberus Hemisphere Enhanced | USGS Astrogeology Science Center',\n",
       "  'img_url': 'https://astrogeology.usgs.gov/cache/images/f5e372a36edfa389625da6d0cc25d905_cerberus_enhanced.tif_full.jpg'},\n",
       " {'title': 'Schiaparelli Hemisphere Enhanced | USGS Astrogeology Science Center',\n",
       "  'img_url': 'https://astrogeology.usgs.gov/cache/images/3778f7b43bbbc89d6e3cfabb3613ba93_schiaparelli_enhanced.tif_full.jpg'},\n",
       " {'title': 'Syrtis Major Hemisphere Enhanced | USGS Astrogeology Science Center',\n",
       "  'img_url': 'https://astrogeology.usgs.gov/cache/images/555e6403a6ddd7ba16ddb0e471cadcf7_syrtis_major_enhanced.tif_full.jpg'},\n",
       " {'title': 'Valles Marineris Hemisphere Enhanced | USGS Astrogeology Science Center',\n",
       "  'img_url': 'https://astrogeology.usgs.gov/cache/images/b3c7c6c9138f57b4756be9b9c43e3a48_valles_marineris_enhanced.tif_full.jpg'}]"
      ]
     },
     "metadata": {},
     "execution_count": 47
    }
   ],
   "source": [
    "########### in this block, we're going to try to run all the browser.visit(x) and html=browser.html statements so we can close the the browser out more quickly\n",
    "\n",
    "#opening browser to the nasa news website\n",
    "browser.visit(nasa_news_url)\n",
    "time.sleep(2)\n",
    "#extracting html from the nasa news website\n",
    "nasa_news_html=browser.html\n",
    "\n",
    "\n",
    "\n",
    "#opening browser to jpl site \n",
    "browser.visit(jpl_mars_url)\n",
    "time.sleep(2)\n",
    "#extracting html\n",
    "jpl_html=browser.html\n",
    "# browser.quit()\n",
    "\n",
    "\n",
    "#visiting mars facts page and grabbing html\n",
    "browser.visit(mars_facts_url)\n",
    "time.sleep(2)\n",
    "### defining the html\n",
    "mars_facts_html=browser.html\n",
    "\n",
    "####------------------------------------------------------------------------------\n",
    "####visiting the mars hemispheres site and grabbing the html\n",
    "\n",
    "browser.visit(hem_url)\n",
    "time.sleep(2)\n",
    "hem_html=browser.html\n",
    "\n",
    "#parsing hemisphere site\n",
    "hem_soup=bs(hem_html,'html.parser')\n",
    "\n",
    "### get the image url string, hemisphere title containing the hemispher name\n",
    "\n",
    "##a results set that contain the links to each hemisphere\n",
    "hem_items=hem_soup.find_all(class_=\"item\")\n",
    "\n",
    "hem_list=[]\n",
    "\n",
    "### visit each hemisphere page and...\n",
    "for result in hem_items:\n",
    "    print(\"--------\")\n",
    "\n",
    "    #opens to the browser to the current hemisphere page\n",
    "    browser.visit(hem_base_url+result.a[\"href\"])\n",
    "    time.sleep(1)\n",
    "\n",
    "    ##opening the image to view it full size\n",
    "    browser.find_link_by_text(\"Open\").first.click()\n",
    "    time.sleep(1)\n",
    "\n",
    "    #defines the current html \n",
    "    current_html=browser.html\n",
    "    cur_soup=bs(current_html,'html.parser')\n",
    "    \n",
    "    # # adds to the dictionary. The key is the hemisphere title and the value is the image link\n",
    "\n",
    "    current_dict={}\n",
    "    # current_dict[cur_soup.find('title').text]=hem_base_url+cur_soup.find('img',class_=\"wide-image\")['src']\n",
    "\n",
    "    #### renaming keys for better access later\n",
    "    current_dict[\"title\"]=cur_soup.find('title').text\n",
    "    current_dict[\"img_url\"]=hem_base_url+cur_soup.find('img',class_=\"wide-image\")['src']\n",
    "\n",
    "    hem_list.append(current_dict)\n",
    "\n",
    "# print(hem_img_dict)\n",
    "browser.quit()\n",
    "hem_list"
   ]
  },
  {
   "cell_type": "code",
   "execution_count": 48,
   "metadata": {
    "tags": []
   },
   "outputs": [],
   "source": [
    "# #opening browser to the nasa news website\n",
    "# browser.visit(nasa_news_url)\n",
    "# time.sleep(2)\n",
    "# #extracting html from the nasa news website\n",
    "# nasa_news_html=browser.html\n"
   ]
  },
  {
   "cell_type": "code",
   "execution_count": 49,
   "metadata": {},
   "outputs": [],
   "source": [
    "#parsing the html\n",
    "nasa_news_soup=bs(nasa_news_html,'html.parser')"
   ]
  },
  {
   "cell_type": "code",
   "execution_count": 50,
   "metadata": {
    "tags": []
   },
   "outputs": [
    {
     "output_type": "execute_result",
     "data": {
      "text/plain": [
       "{'news_title': 'NASA Moves Forward With Campaign to Return Mars Samples to Earth',\n",
       " 'news_p': 'During this next phase, the program will mature critical technologies and make critical design decisions as well as assess industry partnerships.'}"
      ]
     },
     "metadata": {},
     "execution_count": 50
    }
   ],
   "source": [
    "### realized i stored all the articles instead of the first article, grabbing the first artclie here\n",
    "\n",
    "first_art=nasa_news_soup.find(class_=\"item_list\")\n",
    "\n",
    "# print(first_art.text)\n",
    "\n",
    "## gets the articles title\n",
    "first_art.find(class_=\"content_title\").text\n",
    "first_art.find(class_=\"article_teaser_body\").text\n",
    "\n",
    "art_dict={\n",
    "    \"news_title\":first_art.find(class_=\"content_title\").text,\n",
    "    \"news_p\":first_art.find(class_=\"article_teaser_body\").text\n",
    "\n",
    "}\n",
    "art_dict\n",
    "# first_art.find(\"p\")"
   ]
  },
  {
   "cell_type": "code",
   "execution_count": 51,
   "metadata": {
    "tags": []
   },
   "outputs": [],
   "source": [
    "\n",
    "# #finds the list in the html which contains the article titles and paragraphs we seek\n",
    "\n",
    "# articles=nasa_news_soup.find(class_=\"item_list\")\n",
    "\n",
    "# time.sleep(5)\n",
    "# #creates a dictionary with a basic index as the key and the title & paragraphs as keys\n",
    "# #creates a dictionary with the title as the key and the paragraph as the value\n",
    "# art_dict={item.find(class_=\"content_title\").text:item.text for item in articles}\n",
    "\n",
    "# art_dict"
   ]
  },
  {
   "cell_type": "code",
   "execution_count": 52,
   "metadata": {},
   "outputs": [],
   "source": [
    "### getting the image url from the jpl site"
   ]
  },
  {
   "cell_type": "code",
   "execution_count": 53,
   "metadata": {},
   "outputs": [],
   "source": [
    "# #opening browser to jpl site \n",
    "# browser.visit(jpl_mars_url)\n",
    "# #extracting html\n",
    "# time.sleep(2)\n",
    "# jpl_html=browser.html\n",
    "# # browser.quit()"
   ]
  },
  {
   "cell_type": "code",
   "execution_count": 54,
   "metadata": {},
   "outputs": [],
   "source": [
    "#parsing the html for the jpl site\n",
    "jpl_soup=bs(jpl_html,'html.parser')"
   ]
  },
  {
   "cell_type": "code",
   "execution_count": 55,
   "metadata": {},
   "outputs": [],
   "source": [
    "\n",
    "#### dont need this\n",
    "# #### finds and prints out the last half of each jpg's url\n",
    "# jpl_image=jpl_soup.find_all(class_=\"slide\")\n",
    "# # print(jpl_image)\n",
    "# for x in jpl_image:\n",
    "#     # print(x.a)\n",
    "#     print(x.a[\"data-fancybox-href\"])\n",
    "#     print(\"======\")"
   ]
  },
  {
   "cell_type": "code",
   "execution_count": 56,
   "metadata": {
    "tags": []
   },
   "outputs": [
    {
     "output_type": "stream",
     "name": "stdout",
     "text": [
      "https://www.jpl.nasa.gov/spaceimages/images/largesize/PIA24278_hires.jpg\n"
     ]
    }
   ],
   "source": [
    "## finds the partial url for the first image\n",
    "partial_jpl_image_url=jpl_soup.find(class_=\"slide\").a[\"data-fancybox-href\"]\n",
    "\n",
    "## joins the partial url to the initial url to get the full image url\n",
    "featured_image_url=jpl_base_url+partial_jpl_image_url\n",
    "\n",
    "print(featured_image_url)\n",
    "# browser.visit(featured_image_url)"
   ]
  },
  {
   "cell_type": "code",
   "execution_count": 57,
   "metadata": {},
   "outputs": [],
   "source": [
    "# #visiting mars facts page and grabbing html\n",
    "# browser.visit(mars_facts_url)\n",
    "# ### defining the html\n",
    "# mars_facts_html=browser.html\n"
   ]
  },
  {
   "cell_type": "code",
   "execution_count": 58,
   "metadata": {},
   "outputs": [
    {
     "output_type": "execute_result",
     "data": {
      "text/plain": [
       "                      0                              1\n",
       "0  Equatorial Diameter:                       6,792 km\n",
       "1       Polar Diameter:                       6,752 km\n",
       "2                 Mass:  6.39 × 10^23 kg (0.11 Earths)\n",
       "3                Moons:            2 (Phobos & Deimos)\n",
       "4       Orbit Distance:       227,943,824 km (1.38 AU)\n",
       "5         Orbit Period:           687 days (1.9 years)\n",
       "6  Surface Temperature:                   -87 to -5 °C\n",
       "7         First Record:              2nd millennium BC\n",
       "8          Recorded By:           Egyptian astronomers"
      ],
      "text/html": "<div>\n<style scoped>\n    .dataframe tbody tr th:only-of-type {\n        vertical-align: middle;\n    }\n\n    .dataframe tbody tr th {\n        vertical-align: top;\n    }\n\n    .dataframe thead th {\n        text-align: right;\n    }\n</style>\n<table border=\"1\" class=\"dataframe\">\n  <thead>\n    <tr style=\"text-align: right;\">\n      <th></th>\n      <th>0</th>\n      <th>1</th>\n    </tr>\n  </thead>\n  <tbody>\n    <tr>\n      <th>0</th>\n      <td>Equatorial Diameter:</td>\n      <td>6,792 km</td>\n    </tr>\n    <tr>\n      <th>1</th>\n      <td>Polar Diameter:</td>\n      <td>6,752 km</td>\n    </tr>\n    <tr>\n      <th>2</th>\n      <td>Mass:</td>\n      <td>6.39 × 10^23 kg (0.11 Earths)</td>\n    </tr>\n    <tr>\n      <th>3</th>\n      <td>Moons:</td>\n      <td>2 (Phobos &amp; Deimos)</td>\n    </tr>\n    <tr>\n      <th>4</th>\n      <td>Orbit Distance:</td>\n      <td>227,943,824 km (1.38 AU)</td>\n    </tr>\n    <tr>\n      <th>5</th>\n      <td>Orbit Period:</td>\n      <td>687 days (1.9 years)</td>\n    </tr>\n    <tr>\n      <th>6</th>\n      <td>Surface Temperature:</td>\n      <td>-87 to -5 °C</td>\n    </tr>\n    <tr>\n      <th>7</th>\n      <td>First Record:</td>\n      <td>2nd millennium BC</td>\n    </tr>\n    <tr>\n      <th>8</th>\n      <td>Recorded By:</td>\n      <td>Egyptian astronomers</td>\n    </tr>\n  </tbody>\n</table>\n</div>"
     },
     "metadata": {},
     "execution_count": 58
    }
   ],
   "source": [
    "#grabbing the first table from the mars facts html and turning it into a dataframe\n",
    "\n",
    "fact_df=pd.read_html(mars_facts_html)[0]\n",
    "fact_df"
   ]
  },
  {
   "cell_type": "code",
   "execution_count": 59,
   "metadata": {},
   "outputs": [],
   "source": [
    "# ####visiting the mars hemispheres site and grabbing the html\n",
    "\n",
    "# browser.visit(hem_url)\n",
    "\n",
    "# hem_html=browser.html"
   ]
  },
  {
   "cell_type": "code",
   "execution_count": 60,
   "metadata": {},
   "outputs": [],
   "source": [
    "# #parsing hemisphere site\n",
    "# hem_soup=bs(hem_html,'html.parser')"
   ]
  },
  {
   "cell_type": "code",
   "execution_count": 61,
   "metadata": {
    "tags": []
   },
   "outputs": [],
   "source": [
    "# ### get the image url string, hemisphere title containing the hemispher name\n",
    "\n",
    "# ##a results set that contain the links to each hemisphere\n",
    "# hem_items=hem_soup.find_all(class_=\"item\")\n",
    "\n",
    "# hem_image_list=[]\n",
    "# hem_title_list=[]\n",
    "# hem_img_dict={}\n",
    "# ### visit each hemisphere page and...\n",
    "# for result in hem_items:\n",
    "#     print(\"--------\")\n",
    "\n",
    "#     #opens to the browser to the current hemisphere page\n",
    "#     browser.visit(hem_base_url+result.a[\"href\"])\n",
    "#     time.sleep(1)\n",
    "\n",
    "#     ##opening the image to view it full size\n",
    "#     browser.find_link_by_text(\"Open\").first.click()\n",
    "#     time.sleep(1)\n",
    "\n",
    "#     #defines the current html \n",
    "#     current_html=browser.html\n",
    "#     cur_soup=bs(current_html,'html.parser')\n",
    "    \n",
    "#     # adds to the dictionary. The key is the hemisphere title and the value is the image link\n",
    "#     hem_img_dict[cur_soup.find('title').text]=hem_base_url+cur_soup.find('img',class_=\"wide-image\")['src']\n",
    "\n",
    "# print(hem_img_dict)"
   ]
  },
  {
   "cell_type": "code",
   "execution_count": 62,
   "metadata": {
    "tags": []
   },
   "outputs": [],
   "source": [
    "##final dictionary\n",
    "final_dict={\n",
    "    \"Hemispheres\":hem_list,\n",
    "    \"Articles\":art_dict,\n",
    "    \"Featured Image\":featured_image_url,\n",
    "    \"Facts Dataframe\":fact_df,\n",
    "}\n",
    "\n"
   ]
  },
  {
   "cell_type": "code",
   "execution_count": 63,
   "metadata": {},
   "outputs": [
    {
     "output_type": "execute_result",
     "data": {
      "text/plain": [
       "                      0                              1\n",
       "0  Equatorial Diameter:                       6,792 km\n",
       "1       Polar Diameter:                       6,752 km\n",
       "2                 Mass:  6.39 × 10^23 kg (0.11 Earths)\n",
       "3                Moons:            2 (Phobos & Deimos)\n",
       "4       Orbit Distance:       227,943,824 km (1.38 AU)\n",
       "5         Orbit Period:           687 days (1.9 years)\n",
       "6  Surface Temperature:                   -87 to -5 °C\n",
       "7         First Record:              2nd millennium BC\n",
       "8          Recorded By:           Egyptian astronomers"
      ],
      "text/html": "<div>\n<style scoped>\n    .dataframe tbody tr th:only-of-type {\n        vertical-align: middle;\n    }\n\n    .dataframe tbody tr th {\n        vertical-align: top;\n    }\n\n    .dataframe thead th {\n        text-align: right;\n    }\n</style>\n<table border=\"1\" class=\"dataframe\">\n  <thead>\n    <tr style=\"text-align: right;\">\n      <th></th>\n      <th>0</th>\n      <th>1</th>\n    </tr>\n  </thead>\n  <tbody>\n    <tr>\n      <th>0</th>\n      <td>Equatorial Diameter:</td>\n      <td>6,792 km</td>\n    </tr>\n    <tr>\n      <th>1</th>\n      <td>Polar Diameter:</td>\n      <td>6,752 km</td>\n    </tr>\n    <tr>\n      <th>2</th>\n      <td>Mass:</td>\n      <td>6.39 × 10^23 kg (0.11 Earths)</td>\n    </tr>\n    <tr>\n      <th>3</th>\n      <td>Moons:</td>\n      <td>2 (Phobos &amp; Deimos)</td>\n    </tr>\n    <tr>\n      <th>4</th>\n      <td>Orbit Distance:</td>\n      <td>227,943,824 km (1.38 AU)</td>\n    </tr>\n    <tr>\n      <th>5</th>\n      <td>Orbit Period:</td>\n      <td>687 days (1.9 years)</td>\n    </tr>\n    <tr>\n      <th>6</th>\n      <td>Surface Temperature:</td>\n      <td>-87 to -5 °C</td>\n    </tr>\n    <tr>\n      <th>7</th>\n      <td>First Record:</td>\n      <td>2nd millennium BC</td>\n    </tr>\n    <tr>\n      <th>8</th>\n      <td>Recorded By:</td>\n      <td>Egyptian astronomers</td>\n    </tr>\n  </tbody>\n</table>\n</div>"
     },
     "metadata": {},
     "execution_count": 63
    }
   ],
   "source": [
    "fact_df"
   ]
  },
  {
   "cell_type": "code",
   "execution_count": 64,
   "metadata": {},
   "outputs": [
    {
     "output_type": "execute_result",
     "data": {
      "text/plain": [
       "{'Equatorial Diameter:': '6,792 km',\n",
       " 'Polar Diameter:': '6,752 km',\n",
       " 'Mass:': '6.39 × 10^23 kg (0.11 Earths)',\n",
       " 'Moons:': '2 (Phobos & Deimos)',\n",
       " 'Orbit Distance:': '227,943,824 km (1.38 AU)',\n",
       " 'Orbit Period:': '687 days (1.9 years)',\n",
       " 'Surface Temperature:': '-87 to -5 °C',\n",
       " 'First Record:': '2nd millennium BC',\n",
       " 'Recorded By:': 'Egyptian astronomers'}"
      ]
     },
     "metadata": {},
     "execution_count": 64
    }
   ],
   "source": [
    "#### turn fact dataframe into a dictionary\n",
    "\n",
    "fact_dict=fact_df.to_dict(\"dict\")\n",
    "fact_dict[0]\n",
    "fact_dict[0][0]\n",
    "\n",
    "final_fact_dict={}\n",
    "\n",
    "for b in range(len(fact_df)):\n",
    "    final_fact_dict[fact_dict[0][b]]=fact_dict[1][b]\n",
    "\n",
    "\n",
    "final_fact_dict\n",
    "    "
   ]
  },
  {
   "cell_type": "code",
   "execution_count": 72,
   "metadata": {},
   "outputs": [
    {
     "output_type": "stream",
     "name": "stdout",
     "text": [
      "<class 'str'>\n"
     ]
    },
    {
     "output_type": "execute_result",
     "data": {
      "text/plain": [
       "'<table border=\"1\" class=\"dataframe\">\\n  <tbody>\\n    <tr>\\n      <td>Equatorial Diameter:</td>\\n      <td>6,792 km</td>\\n    </tr>\\n    <tr>\\n      <td>Polar Diameter:</td>\\n      <td>6,752 km</td>\\n    </tr>\\n    <tr>\\n      <td>Mass:</td>\\n      <td>6.39 × 10^23 kg (0.11 Earths)</td>\\n    </tr>\\n    <tr>\\n      <td>Moons:</td>\\n      <td>2 (Phobos &amp; Deimos)</td>\\n    </tr>\\n    <tr>\\n      <td>Orbit Distance:</td>\\n      <td>227,943,824 km (1.38 AU)</td>\\n    </tr>\\n    <tr>\\n      <td>Orbit Period:</td>\\n      <td>687 days (1.9 years)</td>\\n    </tr>\\n    <tr>\\n      <td>Surface Temperature:</td>\\n      <td>-87 to -5 °C</td>\\n    </tr>\\n    <tr>\\n      <td>First Record:</td>\\n      <td>2nd millennium BC</td>\\n    </tr>\\n    <tr>\\n      <td>Recorded By:</td>\\n      <td>Egyptian astronomers</td>\\n    </tr>\\n  </tbody>\\n</table>'"
      ]
     },
     "metadata": {},
     "execution_count": 72
    }
   ],
   "source": [
    "fact_df.to_html()\n",
    "print(type(fact_df.to_html()))\n",
    "\n",
    "fact_df.to_html(header=False,index=False)"
   ]
  },
  {
   "cell_type": "code",
   "execution_count": null,
   "metadata": {},
   "outputs": [],
   "source": []
  }
 ]
}