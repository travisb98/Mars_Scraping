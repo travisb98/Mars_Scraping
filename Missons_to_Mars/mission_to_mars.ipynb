{
 "metadata": {
  "language_info": {
   "codemirror_mode": {
    "name": "ipython",
    "version": 3
   },
   "file_extension": ".py",
   "mimetype": "text/x-python",
   "name": "python",
   "nbconvert_exporter": "python",
   "pygments_lexer": "ipython3",
   "version": "3.6.10-final"
  },
  "orig_nbformat": 2,
  "kernelspec": {
   "name": "python3",
   "display_name": "Python 3.6.10 64-bit ('PythonData': conda)",
   "metadata": {
    "interpreter": {
     "hash": "7e7c916c673641125590bd307b68bb4342787996dc085909d7e5c72ee4d13010"
    }
   }
  }
 },
 "nbformat": 4,
 "nbformat_minor": 2,
 "cells": [
  {
   "cell_type": "code",
   "execution_count": 17,
   "metadata": {},
   "outputs": [],
   "source": [
    "from splinter import Browser\n",
    "from bs4 import BeautifulSoup as bs\n",
    "import pandas as pd\n",
    "import pprint"
   ]
  },
  {
   "cell_type": "code",
   "execution_count": 18,
   "metadata": {},
   "outputs": [],
   "source": [
    "nasa_news_url = \"https://mars.nasa.gov/news/?page=0&per_page=40&order=publish_date+desc%2Ccreated_at+desc&search=&category=19%2C165%2C184%2C204&blank_scope=Latest\"\n",
    "\n",
    "jpl_base_url=\"https://www.jpl.nasa.gov\"\n",
    "\n",
    "### this is kinda repetative, I might change this to jpl_base_url +\"?search=&category=Mars\"\n",
    "jpl_mars_url=\"https://www.jpl.nasa.gov/spaceimages/?search=&category=Mars\"\n",
    "\n",
    "mars_facts_url=\"https://space-facts.com/mars/\""
   ]
  },
  {
   "cell_type": "code",
   "execution_count": 19,
   "metadata": {},
   "outputs": [],
   "source": [
    "#using splinter since requests is only returning partial results\n",
    "executable_path = {'executable_path': \"C:/Program Files (x86)/Chrome Driver/chromedriver.exe\"}\n",
    "\n",
    "browser = Browser('chrome', executable_path, headless=False)\n"
   ]
  },
  {
   "cell_type": "code",
   "execution_count": 20,
   "metadata": {
    "tags": []
   },
   "outputs": [],
   "source": [
    "####### i might want to put all the \"browser.visit(x)\" and \"html=browser.html\" lines in the same cell so the browser is open for a shorter time and a can close it sooner\n",
    "\n",
    "#opening browser to the nasa news website\n",
    "browser.visit(nasa_news_url)\n",
    "\n",
    "#extracting html from the nasa news website\n",
    "nasa_news_html=browser.html\n",
    "# browser.quit()"
   ]
  },
  {
   "cell_type": "code",
   "execution_count": 21,
   "metadata": {},
   "outputs": [],
   "source": [
    "#parsing the html\n",
    "nasa_news_soup=bs(nasa_news_html,'html.parser')"
   ]
  },
  {
   "cell_type": "code",
   "execution_count": 22,
   "metadata": {
    "tags": []
   },
   "outputs": [
    {
     "output_type": "stream",
     "name": "stdout",
     "text": [
      "The symbols, mottos, and small objects added to the agency's newest Mars rover serve a variety of purposes, from functional to decorative.5 Hidden Gems Are Riding Aboard NASA's Perseverance RoverDecember  8, 20205 Hidden Gems Are Riding Aboard NASA's Perseverance RoverThe symbols, mottos, and small objects added to the agency's newest Mars rover serve a variety of purposes, from functional to decorative.\n"
     ]
    }
   ],
   "source": [
    "###### I might want to add a try block that redo's this entire cell if the \"articles\" variable returns a nonetype. I might want to define all of this as a function first????\n",
    "#finds the list in the html which contains the article titles and paragraphs we seek\n",
    "\n",
    "articles=nasa_news_soup.find(class_=\"item_list\")\n",
    "\n",
    "#creates a dictionary with a basic index as the key and the title & paragraphs as keys\n",
    "art_dict={count:[item.find(class_=\"content_title\").text,item.text] for count,item in enumerate(articles)}\n",
    "print(art_dict[0][1])\n",
    "\n"
   ]
  },
  {
   "cell_type": "code",
   "execution_count": 23,
   "metadata": {},
   "outputs": [],
   "source": [
    "### getting the image url from the jpl site"
   ]
  },
  {
   "cell_type": "code",
   "execution_count": 24,
   "metadata": {},
   "outputs": [],
   "source": [
    "#opening browser to jpl site \n",
    "browser.visit(jpl_mars_url)\n",
    "#extracting html\n",
    "jpl_html=browser.html\n",
    "# browser.quit()"
   ]
  },
  {
   "cell_type": "code",
   "execution_count": 25,
   "metadata": {},
   "outputs": [],
   "source": [
    "#parsing the html for the jpl site\n",
    "jpl_soup=bs(jpl_html,'html.parser')"
   ]
  },
  {
   "cell_type": "code",
   "execution_count": 26,
   "metadata": {},
   "outputs": [],
   "source": [
    "\n",
    "#### dont need this\n",
    "# #### finds and prints out the last half of each jpg's url\n",
    "# jpl_image=jpl_soup.find_all(class_=\"slide\")\n",
    "# # print(jpl_image)\n",
    "# for x in jpl_image:\n",
    "#     # print(x.a)\n",
    "#     print(x.a[\"data-fancybox-href\"])\n",
    "#     print(\"======\")"
   ]
  },
  {
   "cell_type": "code",
   "execution_count": 27,
   "metadata": {
    "tags": []
   },
   "outputs": [
    {
     "output_type": "stream",
     "name": "stdout",
     "text": [
      "https://www.jpl.nasa.gov/spaceimages/images/largesize/PIA24275_hires.jpg\n"
     ]
    }
   ],
   "source": [
    "## finds the partial url for the first image\n",
    "partial_jpl_image_url=jpl_soup.find(class_=\"slide\").a[\"data-fancybox-href\"]\n",
    "\n",
    "## joins the partial url to the initial url to get the full image url\n",
    "jpl_image_url=jpl_base_url+partial_jpl_image_url\n",
    "print(jpl_image_url)\n",
    "browser.visit(jpl_image_url)"
   ]
  },
  {
   "cell_type": "code",
   "execution_count": 28,
   "metadata": {},
   "outputs": [],
   "source": [
    "#visiting mars facts page and grabbing html\n",
    "browser.visit(mars_facts_url)\n",
    "\n",
    "mars_facts_html=browser.html\n"
   ]
  },
  {
   "cell_type": "code",
   "execution_count": 29,
   "metadata": {},
   "outputs": [
    {
     "output_type": "execute_result",
     "data": {
      "text/plain": [
       "                      0                              1\n",
       "0  Equatorial Diameter:                       6,792 km\n",
       "1       Polar Diameter:                       6,752 km\n",
       "2                 Mass:  6.39 × 10^23 kg (0.11 Earths)\n",
       "3                Moons:            2 (Phobos & Deimos)\n",
       "4       Orbit Distance:       227,943,824 km (1.38 AU)\n",
       "5         Orbit Period:           687 days (1.9 years)\n",
       "6  Surface Temperature:                   -87 to -5 °C\n",
       "7         First Record:              2nd millennium BC\n",
       "8          Recorded By:           Egyptian astronomers"
      ],
      "text/html": "<div>\n<style scoped>\n    .dataframe tbody tr th:only-of-type {\n        vertical-align: middle;\n    }\n\n    .dataframe tbody tr th {\n        vertical-align: top;\n    }\n\n    .dataframe thead th {\n        text-align: right;\n    }\n</style>\n<table border=\"1\" class=\"dataframe\">\n  <thead>\n    <tr style=\"text-align: right;\">\n      <th></th>\n      <th>0</th>\n      <th>1</th>\n    </tr>\n  </thead>\n  <tbody>\n    <tr>\n      <th>0</th>\n      <td>Equatorial Diameter:</td>\n      <td>6,792 km</td>\n    </tr>\n    <tr>\n      <th>1</th>\n      <td>Polar Diameter:</td>\n      <td>6,752 km</td>\n    </tr>\n    <tr>\n      <th>2</th>\n      <td>Mass:</td>\n      <td>6.39 × 10^23 kg (0.11 Earths)</td>\n    </tr>\n    <tr>\n      <th>3</th>\n      <td>Moons:</td>\n      <td>2 (Phobos &amp; Deimos)</td>\n    </tr>\n    <tr>\n      <th>4</th>\n      <td>Orbit Distance:</td>\n      <td>227,943,824 km (1.38 AU)</td>\n    </tr>\n    <tr>\n      <th>5</th>\n      <td>Orbit Period:</td>\n      <td>687 days (1.9 years)</td>\n    </tr>\n    <tr>\n      <th>6</th>\n      <td>Surface Temperature:</td>\n      <td>-87 to -5 °C</td>\n    </tr>\n    <tr>\n      <th>7</th>\n      <td>First Record:</td>\n      <td>2nd millennium BC</td>\n    </tr>\n    <tr>\n      <th>8</th>\n      <td>Recorded By:</td>\n      <td>Egyptian astronomers</td>\n    </tr>\n  </tbody>\n</table>\n</div>"
     },
     "metadata": {},
     "execution_count": 29
    }
   ],
   "source": [
    "#grabbing the first table from the mars facts html and turning it into a dataframe\n",
    "\n",
    "fact_df=pd.read_html(mars_facts_html)[0]\n",
    "fact_df"
   ]
  },
  {
   "cell_type": "code",
   "execution_count": null,
   "metadata": {},
   "outputs": [],
   "source": []
  }
 ]
}