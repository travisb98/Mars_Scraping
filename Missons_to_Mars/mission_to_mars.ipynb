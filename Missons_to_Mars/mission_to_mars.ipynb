{
 "metadata": {
  "language_info": {
   "codemirror_mode": {
    "name": "ipython",
    "version": 3
   },
   "file_extension": ".py",
   "mimetype": "text/x-python",
   "name": "python",
   "nbconvert_exporter": "python",
   "pygments_lexer": "ipython3",
   "version": "3.6.10-final"
  },
  "orig_nbformat": 2,
  "kernelspec": {
   "name": "python3",
   "display_name": "Python 3.6.10 64-bit ('PythonData': conda)",
   "metadata": {
    "interpreter": {
     "hash": "7e7c916c673641125590bd307b68bb4342787996dc085909d7e5c72ee4d13010"
    }
   }
  }
 },
 "nbformat": 4,
 "nbformat_minor": 2,
 "cells": [
  {
   "cell_type": "code",
   "execution_count": 1,
   "metadata": {},
   "outputs": [],
   "source": [
    "from splinter import Browser\n",
    "from bs4 import BeautifulSoup as bs\n",
    "import pandas as pd\n",
    "import pprint\n",
    "import time"
   ]
  },
  {
   "cell_type": "code",
   "execution_count": 2,
   "metadata": {},
   "outputs": [],
   "source": [
    "############ defining the urls needed\n",
    "\n",
    "####---------------------------------------\n",
    "##url for the Nasa news site\n",
    "nasa_news_url = \"https://mars.nasa.gov/news/?page=0&per_page=40&order=publish_date+desc%2Ccreated_at+desc&search=&category=19%2C165%2C184%2C204&blank_scope=Latest\"\n",
    "\n",
    "####---------------------------------------\n",
    "##urls for the jpl site\n",
    "\n",
    "#base url for jpl site\n",
    "jpl_base_url=\"https://www.jpl.nasa.gov\"\n",
    "\n",
    "#url for \"Mars\" search for jpl\n",
    "jpl_mars_url=jpl_base_url+\"/spaceimages/?search=&category=Mars\"\n",
    "\n",
    "####---------------------------------------\n",
    "##url for space facts page\n",
    "mars_facts_url=\"https://space-facts.com/mars/\"\n",
    "\n",
    "####---------------------------------------\n",
    "##urls for hemisphere data\n",
    "\n",
    "#base url for hemisphere site\n",
    "hem_base_url=\"https://astrogeology.usgs.gov\"\n",
    "\n",
    "#page we'll use to access each hemisphere page\n",
    "hem_url=hem_base_url+\"/search/results?q=hemisphere+enhanced&k1=target&v1=Mars\"\n"
   ]
  },
  {
   "cell_type": "code",
   "execution_count": 3,
   "metadata": {},
   "outputs": [],
   "source": [
    "#using splinter since requests is only returning partial results\n",
    "executable_path = {'executable_path': \"C:/Program Files (x86)/Chrome Driver/chromedriver.exe\"}\n",
    "\n",
    "browser = Browser('chrome', executable_path, headless=False)\n"
   ]
  },
  {
   "cell_type": "code",
   "execution_count": 4,
   "metadata": {},
   "outputs": [
    {
     "output_type": "stream",
     "name": "stdout",
     "text": [
      "--------\n",
      "--------\n",
      "--------\n",
      "--------\n"
     ]
    },
    {
     "output_type": "execute_result",
     "data": {
      "text/plain": [
       "[{'Cerberus Hemisphere Enhanced | USGS Astrogeology Science Center': 'https://astrogeology.usgs.gov/cache/images/f5e372a36edfa389625da6d0cc25d905_cerberus_enhanced.tif_full.jpg'},\n",
       " {'Schiaparelli Hemisphere Enhanced | USGS Astrogeology Science Center': 'https://astrogeology.usgs.gov/cache/images/3778f7b43bbbc89d6e3cfabb3613ba93_schiaparelli_enhanced.tif_full.jpg'},\n",
       " {'Syrtis Major Hemisphere Enhanced | USGS Astrogeology Science Center': 'https://astrogeology.usgs.gov/cache/images/555e6403a6ddd7ba16ddb0e471cadcf7_syrtis_major_enhanced.tif_full.jpg'},\n",
       " {'Valles Marineris Hemisphere Enhanced | USGS Astrogeology Science Center': 'https://astrogeology.usgs.gov/cache/images/b3c7c6c9138f57b4756be9b9c43e3a48_valles_marineris_enhanced.tif_full.jpg'}]"
      ]
     },
     "metadata": {},
     "execution_count": 4
    }
   ],
   "source": [
    "########### in this block, we're going to try to run all the browser.visit(x) and html=browser.html statements so we can close the the browser out more quickly\n",
    "\n",
    "#opening browser to the nasa news website\n",
    "browser.visit(nasa_news_url)\n",
    "time.sleep(2)\n",
    "#extracting html from the nasa news website\n",
    "nasa_news_html=browser.html\n",
    "\n",
    "\n",
    "\n",
    "#opening browser to jpl site \n",
    "browser.visit(jpl_mars_url)\n",
    "time.sleep(2)\n",
    "#extracting html\n",
    "jpl_html=browser.html\n",
    "# browser.quit()\n",
    "\n",
    "\n",
    "#visiting mars facts page and grabbing html\n",
    "browser.visit(mars_facts_url)\n",
    "time.sleep(2)\n",
    "### defining the html\n",
    "mars_facts_html=browser.html\n",
    "\n",
    "####------------------------------------------------------------------------------\n",
    "####visiting the mars hemispheres site and grabbing the html\n",
    "\n",
    "browser.visit(hem_url)\n",
    "time.sleep(2)\n",
    "hem_html=browser.html\n",
    "\n",
    "#parsing hemisphere site\n",
    "hem_soup=bs(hem_html,'html.parser')\n",
    "\n",
    "### get the image url string, hemisphere title containing the hemispher name\n",
    "\n",
    "##a results set that contain the links to each hemisphere\n",
    "hem_items=hem_soup.find_all(class_=\"item\")\n",
    "\n",
    "hem_list=[]\n",
    "\n",
    "### visit each hemisphere page and...\n",
    "for result in hem_items:\n",
    "    print(\"--------\")\n",
    "\n",
    "    #opens to the browser to the current hemisphere page\n",
    "    browser.visit(hem_base_url+result.a[\"href\"])\n",
    "    time.sleep(1)\n",
    "\n",
    "    ##opening the image to view it full size\n",
    "    browser.find_link_by_text(\"Open\").first.click()\n",
    "    time.sleep(1)\n",
    "\n",
    "    #defines the current html \n",
    "    current_html=browser.html\n",
    "    cur_soup=bs(current_html,'html.parser')\n",
    "    \n",
    "    # # adds to the dictionary. The key is the hemisphere title and the value is the image link\n",
    "\n",
    "    current_dict={}\n",
    "    current_dict[cur_soup.find('title').text]=hem_base_url+cur_soup.find('img',class_=\"wide-image\")['src']\n",
    "\n",
    "    hem_list.append(current_dict)\n",
    "\n",
    "# print(hem_img_dict)\n",
    "browser.quit()\n",
    "hem_list"
   ]
  },
  {
   "cell_type": "code",
   "execution_count": 5,
   "metadata": {
    "tags": []
   },
   "outputs": [],
   "source": [
    "# #opening browser to the nasa news website\n",
    "# browser.visit(nasa_news_url)\n",
    "# time.sleep(2)\n",
    "# #extracting html from the nasa news website\n",
    "# nasa_news_html=browser.html\n"
   ]
  },
  {
   "cell_type": "code",
   "execution_count": 6,
   "metadata": {},
   "outputs": [],
   "source": [
    "#parsing the html\n",
    "nasa_news_soup=bs(nasa_news_html,'html.parser')"
   ]
  },
  {
   "cell_type": "code",
   "execution_count": 7,
   "metadata": {
    "tags": []
   },
   "outputs": [
    {
     "output_type": "execute_result",
     "data": {
      "text/plain": [
       "{'NASA Moves Forward With Campaign to Return Mars Samples to Earth': 'During this next phase, the program will mature critical technologies and make critical design decisions as well as assess industry partnerships.NASA Moves Forward With Campaign to Return Mars Samples to EarthDecember 17, 2020NASA Moves Forward With Campaign to Return Mars Samples to EarthDuring this next phase, the program will mature critical technologies and make critical design decisions as well as assess industry partnerships.',\n",
       " \"3 Things We've Learned From NASA's Mars InSight \": \"Scientists are finding new mysteries since the geophysics mission landed two years ago.3 Things We've Learned From NASA's Mars InSight December 16, 20203 Things We've Learned From NASA's Mars InSight Scientists are finding new mysteries since the geophysics mission landed two years ago.\",\n",
       " \"From JPL's Mailroom to Mars and Beyond\": \"Bill Allen has thrived as the mechanical systems design lead for three Mars rover missions, but he got his start as a teenager sorting letters for the NASA center.From JPL's Mailroom to Mars and BeyondDecember 14, 2020From JPL's Mailroom to Mars and BeyondBill Allen has thrived as the mechanical systems design lead for three Mars rover missions, but he got his start as a teenager sorting letters for the NASA center.\",\n",
       " \"5 Hidden Gems Are Riding Aboard NASA's Perseverance Rover\": \"The symbols, mottos, and small objects added to the agency's newest Mars rover serve a variety of purposes, from functional to decorative.5 Hidden Gems Are Riding Aboard NASA's Perseverance RoverDecember  8, 20205 Hidden Gems Are Riding Aboard NASA's Perseverance RoverThe symbols, mottos, and small objects added to the agency's newest Mars rover serve a variety of purposes, from functional to decorative.\",\n",
       " 'MOXIE Could Help Future Rockets Launch Off Mars': \"NASA's Perseverance rover carries a device to convert Martian air into oxygen that, if produced on a larger scale, could be used not just for breathing, but also for fuel.MOXIE Could Help Future Rockets Launch Off MarsNovember 24, 2020MOXIE Could Help Future Rockets Launch Off MarsNASA's Perseverance rover carries a device to convert Martian air into oxygen that, if produced on a larger scale, could be used not just for breathing, but also for fuel.\",\n",
       " \"Hear Audio From NASA's Perseverance As It Travels Through Deep Space\": \"The first to be rigged with microphones, the agency's latest Mars rover picked up the subtle sounds of its own inner workings during interplanetary flight.Hear Audio From NASA's Perseverance As It Travels Through Deep SpaceNovember 18, 2020Hear Audio From NASA's Perseverance As It Travels Through Deep SpaceThe first to be rigged with microphones, the agency's latest Mars rover picked up the subtle sounds of its own inner workings during interplanetary flight.\",\n",
       " 'Mars Is Getting a New Robotic Meteorologist': \"Sensors on NASA's Perseverance will help prepare for future human exploration by taking weather measurements and studying dust particles.Mars Is Getting a New Robotic MeteorologistNovember 13, 2020Mars Is Getting a New Robotic MeteorologistSensors on NASA's Perseverance will help prepare for future human exploration by taking weather measurements and studying dust particles.\",\n",
       " 'Heat and Dust Help Launch Martian Water Into Space, Scientists Find': 'Scientists using an instrument aboard NASA’s Mars Atmosphere and Volatile EvolutioN, or MAVEN, spacecraft have discovered that water vapor near the surface of the Red Planet is lofted higher into the atmosphere than anyone expected was possible. Heat and Dust Help Launch Martian Water Into Space, Scientists FindNovember 13, 2020Heat and Dust Help Launch Martian Water Into Space, Scientists FindScientists using an instrument aboard NASA’s Mars Atmosphere and Volatile EvolutioN, or MAVEN, spacecraft have discovered that water vapor near the surface of the Red Planet is lofted higher into the atmosphere than anyone expected was possible. ',\n",
       " \"NASA's Curiosity Takes Selfie With 'Mary Anning' on the Red Planet\": \"The Mars rover has drilled three samples of rock in this clay-enriched region since arriving in July.NASA's Curiosity Takes Selfie With 'Mary Anning' on the Red PlanetNovember 12, 2020NASA's Curiosity Takes Selfie With 'Mary Anning' on the Red PlanetThe Mars rover has drilled three samples of rock in this clay-enriched region since arriving in July.\",\n",
       " 'Independent Review Indicates NASA Prepared for Mars Sample Return Campaign': 'NASA released an independent review report Tuesday indicating the agency is well positioned for its Mars Sample Return campaign to bring pristine samples from Mars to Earth for scientific study.Independent Review Indicates NASA Prepared for Mars Sample Return CampaignNovember 10, 2020Independent Review Indicates NASA Prepared for Mars Sample Return CampaignNASA released an independent review report Tuesday indicating the agency is well positioned for its Mars Sample Return campaign to bring pristine samples from Mars to Earth for scientific study.',\n",
       " \"NASA's Perseverance Rover 100 Days Out\": \"Mark your calendars: The agency's latest rover has only about 8,640,000 seconds to go before it touches down on the Red Planet, becoming history's next Mars car.NASA's Perseverance Rover 100 Days OutNovember 10, 2020NASA's Perseverance Rover 100 Days OutMark your calendars: The agency's latest rover has only about 8,640,000 seconds to go before it touches down on the Red Planet, becoming history's next Mars car.\",\n",
       " \"NASA's Perseverance Rover Is Midway to Mars \": \"Sometimes half measures can be a good thing – especially on a journey this long. The agency's latest rover only has about 146 million miles left to reach its destination.NASA's Perseverance Rover Is Midway to Mars October 27, 2020NASA's Perseverance Rover Is Midway to Mars Sometimes half measures can be a good thing – especially on a journey this long. The agency's latest rover only has about 146 million miles left to reach its destination.\",\n",
       " 'Sensors on Mars 2020 Spacecraft Answer Long-Distance Call From Earth': \"Instruments tailored to collect data during the descent of NASA's next rover through the Red Planet's atmosphere have been checked in flight.Sensors on Mars 2020 Spacecraft Answer Long-Distance Call From EarthOctober 22, 2020Sensors on Mars 2020 Spacecraft Answer Long-Distance Call From EarthInstruments tailored to collect data during the descent of NASA's next rover through the Red Planet's atmosphere have been checked in flight.\",\n",
       " \"NASA's Perseverance Rover Bringing 3D-Printed Metal Parts to Mars\": \"For hobbyists and makers, 3D printing expands creative possibilities; for specialized engineers, it's also key to next-generation spacecraft design.NASA's Perseverance Rover Bringing 3D-Printed Metal Parts to MarsOctober 19, 2020NASA's Perseverance Rover Bringing 3D-Printed Metal Parts to MarsFor hobbyists and makers, 3D printing expands creative possibilities; for specialized engineers, it's also key to next-generation spacecraft design.\",\n",
       " \"NASA InSight's 'Mole' Is Out of Sight\": \"Now that the heat probe is just below the Martian surface, InSight's arm will scoop some additional soil on top to help it keep digging so it can take Mars' temperature.NASA InSight's 'Mole' Is Out of SightOctober 16, 2020NASA InSight's 'Mole' Is Out of SightNow that the heat probe is just below the Martian surface, InSight's arm will scoop some additional soil on top to help it keep digging so it can take Mars' temperature.\",\n",
       " \"NASA's Perseverance Rover Will Peer Beneath Mars' Surface \": \"The agency's newest rover will use the first ground-penetrating radar instrument on the Martian surface to help search for signs of past microbial life. NASA's Perseverance Rover Will Peer Beneath Mars' Surface October  8, 2020NASA's Perseverance Rover Will Peer Beneath Mars' Surface The agency's newest rover will use the first ground-penetrating radar instrument on the Martian surface to help search for signs of past microbial life. \",\n",
       " 'AI Is Helping Scientists Discover Fresh Craters on Mars': \"It's the first time machine learning has been used to find previously unknown craters on the Red Planet.AI Is Helping Scientists Discover Fresh Craters on MarsOctober  1, 2020AI Is Helping Scientists Discover Fresh Craters on MarsIt's the first time machine learning has been used to find previously unknown craters on the Red Planet.\",\n",
       " \"NASA's New Mars Rover Is Ready for Space Lasers\": \"Perseverance is one of a few Mars spacecraft carrying laser retroreflectors. The devices could provide new science and safer Mars landings in the future.NASA's New Mars Rover Is Ready for Space LasersSeptember 28, 2020NASA's New Mars Rover Is Ready for Space LasersPerseverance is one of a few Mars spacecraft carrying laser retroreflectors. The devices could provide new science and safer Mars landings in the future.\",\n",
       " \"NASA's New Mars Rover Will Use X-Rays to Hunt Fossils\": \"PIXL, an instrument on the end of the Perseverance rover's arm, will search for chemical fingerprints left by ancient microbes.NASA's New Mars Rover Will Use X-Rays to Hunt FossilsSeptember 22, 2020NASA's New Mars Rover Will Use X-Rays to Hunt FossilsPIXL, an instrument on the end of the Perseverance rover's arm, will search for chemical fingerprints left by ancient microbes.\",\n",
       " 'My Culture, My Voice': 'In honor of Hispanic Heritage Month, Christina Hernandez, an instrument engineer on the Mars 2020 mission, talks about her childhood and journey to NASA.My Culture, My VoiceSeptember 16, 2020My Culture, My VoiceIn honor of Hispanic Heritage Month, Christina Hernandez, an instrument engineer on the Mars 2020 mission, talks about her childhood and journey to NASA.',\n",
       " \"NASA Readies Perseverance Mars Rover's Earthly Twin \": \"Did you know NASA's next Mars rover has a nearly identical sibling on Earth for testing? Even better, it's about to roll for the first time through a replica Martian landscape.NASA Readies Perseverance Mars Rover's Earthly Twin September  4, 2020NASA Readies Perseverance Mars Rover's Earthly Twin Did you know NASA's next Mars rover has a nearly identical sibling on Earth for testing? Even better, it's about to roll for the first time through a replica Martian landscape.\",\n",
       " \"NASA Engineers Checking InSight's Weather Sensors\": \"An electronics issue is suspected to be preventing the sensors from sharing their data about Mars weather with the spacecraft.NASA Engineers Checking InSight's Weather SensorsAugust 24, 2020NASA Engineers Checking InSight's Weather SensorsAn electronics issue is suspected to be preventing the sensors from sharing their data about Mars weather with the spacecraft.\",\n",
       " \"Follow NASA's Perseverance Rover in Real Time on Its Way to Mars\": \"A crisply rendered web application can show you where the agency's Mars 2020 mission is right now as it makes its way to the Red Planet for a Feb. 18, 2021, landing.Follow NASA's Perseverance Rover in Real Time on Its Way to MarsAugust 21, 2020Follow NASA's Perseverance Rover in Real Time on Its Way to MarsA crisply rendered web application can show you where the agency's Mars 2020 mission is right now as it makes its way to the Red Planet for a Feb. 18, 2021, landing.\",\n",
       " 'NASA Establishes Board to Initially Review Mars Sample Return Plans': 'The board will assist with analysis of current plans and goals for one of the most difficult missions humanity has ever undertaken.NASA Establishes Board to Initially Review Mars Sample Return PlansAugust 14, 2020NASA Establishes Board to Initially Review Mars Sample Return PlansThe board will assist with analysis of current plans and goals for one of the most difficult missions humanity has ever undertaken.',\n",
       " \"NASA's Ingenuity Mars Helicopter Recharges Its Batteries in Flight\": \"Headed to the Red Planet with the Perseverance rover, the pioneering helicopter is powered up for the first time in interplanetary space as part of a systems check.NASA's Ingenuity Mars Helicopter Recharges Its Batteries in FlightAugust 13, 2020NASA's Ingenuity Mars Helicopter Recharges Its Batteries in FlightHeaded to the Red Planet with the Perseverance rover, the pioneering helicopter is powered up for the first time in interplanetary space as part of a systems check.\",\n",
       " \"Celebrate Mars Reconnaissance Orbiter's Views From Above\": \"Marking its 15th anniversary since launch, one of the oldest spacecraft at the Red Planet has provided glimpses of dust devils, avalanches, and more.Celebrate Mars Reconnaissance Orbiter's Views From AboveAugust 12, 2020Celebrate Mars Reconnaissance Orbiter's Views From AboveMarking its 15th anniversary since launch, one of the oldest spacecraft at the Red Planet has provided glimpses of dust devils, avalanches, and more.\",\n",
       " \"NASA's MAVEN Observes Martian Night Sky Pulsing in Ultraviolet Light\": \"Vast areas of the Martian night sky pulse in ultraviolet light, according to images from NASA’s MAVEN spacecraft. The results are being used to illuminate complex circulation patterns in the Martian atmosphere.NASA's MAVEN Observes Martian Night Sky Pulsing in Ultraviolet LightAugust  6, 2020NASA's MAVEN Observes Martian Night Sky Pulsing in Ultraviolet LightVast areas of the Martian night sky pulse in ultraviolet light, according to images from NASA’s MAVEN spacecraft. The results are being used to illuminate complex circulation patterns in the Martian atmosphere.\",\n",
       " \"8 Martian Postcards to Celebrate Curiosity's Landing Anniversary\": \"The NASA rover touched down eight years ago, on Aug. 5, 2012, and will soon be joined by a second rover, Perseverance.8 Martian Postcards to Celebrate Curiosity's Landing AnniversaryAugust  3, 20208 Martian Postcards to Celebrate Curiosity's Landing AnniversaryThe NASA rover touched down eight years ago, on Aug. 5, 2012, and will soon be joined by a second rover, Perseverance.\",\n",
       " 'NASA, ULA Launch Mars 2020 Perseverance Rover Mission to Red Planet': \"The agency's Mars 2020 mission is on its way. It will land at Jezero Crater in about seven months, on Feb. 18, 2021. NASA, ULA Launch Mars 2020 Perseverance Rover Mission to Red PlanetJuly 30, 2020NASA, ULA Launch Mars 2020 Perseverance Rover Mission to Red PlanetThe agency's Mars 2020 mission is on its way. It will land at Jezero Crater in about seven months, on Feb. 18, 2021. \",\n",
       " \"NASA's Perseverance Rover Will Carry First Spacesuit Materials to Mars\": \"In a Q&A, spacesuit designer Amy Ross explains how five samples, including a piece of helmet visor, will be tested aboard the rover, which is targeting a July 30 launch. NASA's Perseverance Rover Will Carry First Spacesuit Materials to MarsJuly 28, 2020NASA's Perseverance Rover Will Carry First Spacesuit Materials to MarsIn a Q&A, spacesuit designer Amy Ross explains how five samples, including a piece of helmet visor, will be tested aboard the rover, which is targeting a July 30 launch. \",\n",
       " \"A New Video Captures the Science of NASA's Perseverance Mars Rover\": \"With a targeted launch date of July 30, the next robotic scientist NASA is sending to the to the Red Planet has big ambitions.A New Video Captures the Science of NASA's Perseverance Mars RoverJuly 27, 2020A New Video Captures the Science of NASA's Perseverance Mars RoverWith a targeted launch date of July 30, the next robotic scientist NASA is sending to the to the Red Planet has big ambitions.\",\n",
       " 'NASA Invites Public to Share Excitement of Mars 2020 Perseverance Rover Launch': 'There are lots of ways to participate in the historic event, which is targeted for July 30.NASA Invites Public to Share Excitement of Mars 2020 Perseverance Rover LaunchJuly 23, 2020NASA Invites Public to Share Excitement of Mars 2020 Perseverance Rover LaunchThere are lots of ways to participate in the historic event, which is targeted for July 30.',\n",
       " \"NASA's Mars Perseverance Rover Passes Flight Readiness Review\": \"\\u200bThe agency's Mars 2020 mission has one more big prelaunch review – the Launch Readiness Review, on July 27.NASA's Mars Perseverance Rover Passes Flight Readiness ReviewJuly 22, 2020NASA's Mars Perseverance Rover Passes Flight Readiness Review\\u200bThe agency's Mars 2020 mission has one more big prelaunch review – the Launch Readiness Review, on July 27.\",\n",
       " 'NASA to Broadcast Mars 2020 Perseverance Launch, Prelaunch Activities': 'Starting July 27, news activities will cover everything from mission engineering and science to returning samples from Mars to, of course, the launch itself.NASA to Broadcast Mars 2020 Perseverance Launch, Prelaunch ActivitiesJuly 17, 2020NASA to Broadcast Mars 2020 Perseverance Launch, Prelaunch ActivitiesStarting July 27, news activities will cover everything from mission engineering and science to returning samples from Mars to, of course, the launch itself.',\n",
       " \"6 Things to Know About NASA's Ingenuity Mars Helicopter\": \"The first helicopter attempting to fly on another planet is a marvel of engineering. Get up to speed with these key facts about its plans.6 Things to Know About NASA's Ingenuity Mars HelicopterJuly 14, 20206 Things to Know About NASA's Ingenuity Mars HelicopterThe first helicopter attempting to fly on another planet is a marvel of engineering. Get up to speed with these key facts about its plans.\",\n",
       " 'Join NASA for the Launch of the Mars 2020 Perseverance Rover': 'No matter where you live, choose from a menu of activities to join NASA as we \"Countdown to Mars\" and launch the Perseverance rover to the Red Planet.Join NASA for the Launch of the Mars 2020 Perseverance RoverJuly 10, 2020Join NASA for the Launch of the Mars 2020 Perseverance RoverNo matter where you live, choose from a menu of activities to join NASA as we \"Countdown to Mars\" and launch the Perseverance rover to the Red Planet.',\n",
       " \"NASA's Perseverance Rover Attached to Atlas V Rocket\": \"Ready for its launch later in the month, the Mars-bound rover will touch terra firma no more.NASA's Perseverance Rover Attached to Atlas V RocketJuly  9, 2020NASA's Perseverance Rover Attached to Atlas V RocketReady for its launch later in the month, the Mars-bound rover will touch terra firma no more.\",\n",
       " '7 Things to Know About the Mars 2020 Perseverance Rover Mission': \"NASA's next rover to the Red Planet is slated to launch no earlier than July 30. These highlights will get you up to speed on the ambitious mission.7 Things to Know About the Mars 2020 Perseverance Rover MissionJuly  8, 20207 Things to Know About the Mars 2020 Perseverance Rover MissionNASA's next rover to the Red Planet is slated to launch no earlier than July 30. These highlights will get you up to speed on the ambitious mission.\",\n",
       " \"NASA's InSight Flexes Its Arm While Its 'Mole' Hits Pause\": \"Now that the lander's robotic arm has helped the mole get underground, it will resume science activities that have been on hold.NASA's InSight Flexes Its Arm While Its 'Mole' Hits PauseJuly  7, 2020NASA's InSight Flexes Its Arm While Its 'Mole' Hits PauseNow that the lander's robotic arm has helped the mole get underground, it will resume science activities that have been on hold.\",\n",
       " \"Curiosity Mars Rover's Summer Road Trip Has Begun\": 'After more than a year in the \"clay-bearing unit,\" Curiosity is making a mile-long journey around some deep sand so that it can explore higher up Mount Sharp.Curiosity Mars Rover\\'s Summer Road Trip Has BegunJuly  6, 2020Curiosity Mars Rover\\'s Summer Road Trip Has BegunAfter more than a year in the \"clay-bearing unit,\" Curiosity is making a mile-long journey around some deep sand so that it can explore higher up Mount Sharp.'}"
      ]
     },
     "metadata": {},
     "execution_count": 7
    }
   ],
   "source": [
    "#finds the list in the html which contains the article titles and paragraphs we seek\n",
    "\n",
    "articles=nasa_news_soup.find(class_=\"item_list\")\n",
    "\n",
    "time.sleep(5)\n",
    "#creates a dictionary with a basic index as the key and the title & paragraphs as keys\n",
    "art_dict={item.find(class_=\"content_title\").text:item.text for item in articles}\n",
    "\n",
    "art_dict"
   ]
  },
  {
   "cell_type": "code",
   "execution_count": 8,
   "metadata": {},
   "outputs": [],
   "source": [
    "### getting the image url from the jpl site"
   ]
  },
  {
   "cell_type": "code",
   "execution_count": 9,
   "metadata": {},
   "outputs": [],
   "source": [
    "# #opening browser to jpl site \n",
    "# browser.visit(jpl_mars_url)\n",
    "# #extracting html\n",
    "# time.sleep(2)\n",
    "# jpl_html=browser.html\n",
    "# # browser.quit()"
   ]
  },
  {
   "cell_type": "code",
   "execution_count": 10,
   "metadata": {},
   "outputs": [],
   "source": [
    "#parsing the html for the jpl site\n",
    "jpl_soup=bs(jpl_html,'html.parser')"
   ]
  },
  {
   "cell_type": "code",
   "execution_count": 11,
   "metadata": {},
   "outputs": [],
   "source": [
    "\n",
    "#### dont need this\n",
    "# #### finds and prints out the last half of each jpg's url\n",
    "# jpl_image=jpl_soup.find_all(class_=\"slide\")\n",
    "# # print(jpl_image)\n",
    "# for x in jpl_image:\n",
    "#     # print(x.a)\n",
    "#     print(x.a[\"data-fancybox-href\"])\n",
    "#     print(\"======\")"
   ]
  },
  {
   "cell_type": "code",
   "execution_count": 12,
   "metadata": {
    "tags": []
   },
   "outputs": [
    {
     "output_type": "stream",
     "name": "stdout",
     "text": [
      "https://www.jpl.nasa.gov/spaceimages/images/largesize/PIA24278_hires.jpg\n"
     ]
    }
   ],
   "source": [
    "## finds the partial url for the first image\n",
    "partial_jpl_image_url=jpl_soup.find(class_=\"slide\").a[\"data-fancybox-href\"]\n",
    "\n",
    "## joins the partial url to the initial url to get the full image url\n",
    "featured_image_url=jpl_base_url+partial_jpl_image_url\n",
    "\n",
    "print(featured_image_url)\n",
    "# browser.visit(featured_image_url)"
   ]
  },
  {
   "cell_type": "code",
   "execution_count": 13,
   "metadata": {},
   "outputs": [],
   "source": [
    "# #visiting mars facts page and grabbing html\n",
    "# browser.visit(mars_facts_url)\n",
    "# ### defining the html\n",
    "# mars_facts_html=browser.html\n"
   ]
  },
  {
   "cell_type": "code",
   "execution_count": 14,
   "metadata": {},
   "outputs": [
    {
     "output_type": "execute_result",
     "data": {
      "text/plain": [
       "                      0                              1\n",
       "0  Equatorial Diameter:                       6,792 km\n",
       "1       Polar Diameter:                       6,752 km\n",
       "2                 Mass:  6.39 × 10^23 kg (0.11 Earths)\n",
       "3                Moons:            2 (Phobos & Deimos)\n",
       "4       Orbit Distance:       227,943,824 km (1.38 AU)\n",
       "5         Orbit Period:           687 days (1.9 years)\n",
       "6  Surface Temperature:                   -87 to -5 °C\n",
       "7         First Record:              2nd millennium BC\n",
       "8          Recorded By:           Egyptian astronomers"
      ],
      "text/html": "<div>\n<style scoped>\n    .dataframe tbody tr th:only-of-type {\n        vertical-align: middle;\n    }\n\n    .dataframe tbody tr th {\n        vertical-align: top;\n    }\n\n    .dataframe thead th {\n        text-align: right;\n    }\n</style>\n<table border=\"1\" class=\"dataframe\">\n  <thead>\n    <tr style=\"text-align: right;\">\n      <th></th>\n      <th>0</th>\n      <th>1</th>\n    </tr>\n  </thead>\n  <tbody>\n    <tr>\n      <th>0</th>\n      <td>Equatorial Diameter:</td>\n      <td>6,792 km</td>\n    </tr>\n    <tr>\n      <th>1</th>\n      <td>Polar Diameter:</td>\n      <td>6,752 km</td>\n    </tr>\n    <tr>\n      <th>2</th>\n      <td>Mass:</td>\n      <td>6.39 × 10^23 kg (0.11 Earths)</td>\n    </tr>\n    <tr>\n      <th>3</th>\n      <td>Moons:</td>\n      <td>2 (Phobos &amp; Deimos)</td>\n    </tr>\n    <tr>\n      <th>4</th>\n      <td>Orbit Distance:</td>\n      <td>227,943,824 km (1.38 AU)</td>\n    </tr>\n    <tr>\n      <th>5</th>\n      <td>Orbit Period:</td>\n      <td>687 days (1.9 years)</td>\n    </tr>\n    <tr>\n      <th>6</th>\n      <td>Surface Temperature:</td>\n      <td>-87 to -5 °C</td>\n    </tr>\n    <tr>\n      <th>7</th>\n      <td>First Record:</td>\n      <td>2nd millennium BC</td>\n    </tr>\n    <tr>\n      <th>8</th>\n      <td>Recorded By:</td>\n      <td>Egyptian astronomers</td>\n    </tr>\n  </tbody>\n</table>\n</div>"
     },
     "metadata": {},
     "execution_count": 14
    }
   ],
   "source": [
    "#grabbing the first table from the mars facts html and turning it into a dataframe\n",
    "\n",
    "fact_df=pd.read_html(mars_facts_html)[0]\n",
    "fact_df"
   ]
  },
  {
   "cell_type": "code",
   "execution_count": 15,
   "metadata": {},
   "outputs": [],
   "source": [
    "# ####visiting the mars hemispheres site and grabbing the html\n",
    "\n",
    "# browser.visit(hem_url)\n",
    "\n",
    "# hem_html=browser.html"
   ]
  },
  {
   "cell_type": "code",
   "execution_count": 16,
   "metadata": {},
   "outputs": [],
   "source": [
    "# #parsing hemisphere site\n",
    "# hem_soup=bs(hem_html,'html.parser')"
   ]
  },
  {
   "cell_type": "code",
   "execution_count": 17,
   "metadata": {
    "tags": []
   },
   "outputs": [],
   "source": [
    "# ### get the image url string, hemisphere title containing the hemispher name\n",
    "\n",
    "# ##a results set that contain the links to each hemisphere\n",
    "# hem_items=hem_soup.find_all(class_=\"item\")\n",
    "\n",
    "# hem_image_list=[]\n",
    "# hem_title_list=[]\n",
    "# hem_img_dict={}\n",
    "# ### visit each hemisphere page and...\n",
    "# for result in hem_items:\n",
    "#     print(\"--------\")\n",
    "\n",
    "#     #opens to the browser to the current hemisphere page\n",
    "#     browser.visit(hem_base_url+result.a[\"href\"])\n",
    "#     time.sleep(1)\n",
    "\n",
    "#     ##opening the image to view it full size\n",
    "#     browser.find_link_by_text(\"Open\").first.click()\n",
    "#     time.sleep(1)\n",
    "\n",
    "#     #defines the current html \n",
    "#     current_html=browser.html\n",
    "#     cur_soup=bs(current_html,'html.parser')\n",
    "    \n",
    "#     # adds to the dictionary. The key is the hemisphere title and the value is the image link\n",
    "#     hem_img_dict[cur_soup.find('title').text]=hem_base_url+cur_soup.find('img',class_=\"wide-image\")['src']\n",
    "\n",
    "# print(hem_img_dict)"
   ]
  },
  {
   "cell_type": "code",
   "execution_count": 18,
   "metadata": {
    "tags": []
   },
   "outputs": [],
   "source": [
    "##final dictionary\n",
    "final_dict={\n",
    "    \"Hemispheres\":hem_list,\n",
    "    \"Articles\":art_dict,\n",
    "    \"Featured Image\":featured_image_url,\n",
    "    \"Facts Dataframe\":fact_df,\n",
    "}\n",
    "\n"
   ]
  },
  {
   "cell_type": "code",
   "execution_count": 21,
   "metadata": {},
   "outputs": [
    {
     "output_type": "execute_result",
     "data": {
      "text/plain": [
       "                      0                              1\n",
       "0  Equatorial Diameter:                       6,792 km\n",
       "1       Polar Diameter:                       6,752 km\n",
       "2                 Mass:  6.39 × 10^23 kg (0.11 Earths)\n",
       "3                Moons:            2 (Phobos & Deimos)\n",
       "4       Orbit Distance:       227,943,824 km (1.38 AU)\n",
       "5         Orbit Period:           687 days (1.9 years)\n",
       "6  Surface Temperature:                   -87 to -5 °C\n",
       "7         First Record:              2nd millennium BC\n",
       "8          Recorded By:           Egyptian astronomers"
      ],
      "text/html": "<div>\n<style scoped>\n    .dataframe tbody tr th:only-of-type {\n        vertical-align: middle;\n    }\n\n    .dataframe tbody tr th {\n        vertical-align: top;\n    }\n\n    .dataframe thead th {\n        text-align: right;\n    }\n</style>\n<table border=\"1\" class=\"dataframe\">\n  <thead>\n    <tr style=\"text-align: right;\">\n      <th></th>\n      <th>0</th>\n      <th>1</th>\n    </tr>\n  </thead>\n  <tbody>\n    <tr>\n      <th>0</th>\n      <td>Equatorial Diameter:</td>\n      <td>6,792 km</td>\n    </tr>\n    <tr>\n      <th>1</th>\n      <td>Polar Diameter:</td>\n      <td>6,752 km</td>\n    </tr>\n    <tr>\n      <th>2</th>\n      <td>Mass:</td>\n      <td>6.39 × 10^23 kg (0.11 Earths)</td>\n    </tr>\n    <tr>\n      <th>3</th>\n      <td>Moons:</td>\n      <td>2 (Phobos &amp; Deimos)</td>\n    </tr>\n    <tr>\n      <th>4</th>\n      <td>Orbit Distance:</td>\n      <td>227,943,824 km (1.38 AU)</td>\n    </tr>\n    <tr>\n      <th>5</th>\n      <td>Orbit Period:</td>\n      <td>687 days (1.9 years)</td>\n    </tr>\n    <tr>\n      <th>6</th>\n      <td>Surface Temperature:</td>\n      <td>-87 to -5 °C</td>\n    </tr>\n    <tr>\n      <th>7</th>\n      <td>First Record:</td>\n      <td>2nd millennium BC</td>\n    </tr>\n    <tr>\n      <th>8</th>\n      <td>Recorded By:</td>\n      <td>Egyptian astronomers</td>\n    </tr>\n  </tbody>\n</table>\n</div>"
     },
     "metadata": {},
     "execution_count": 21
    }
   ],
   "source": [
    "fact_df"
   ]
  },
  {
   "cell_type": "code",
   "execution_count": 30,
   "metadata": {},
   "outputs": [
    {
     "output_type": "execute_result",
     "data": {
      "text/plain": [
       "{'Equatorial Diameter:': '6,792 km',\n",
       " 'Polar Diameter:': '6,752 km',\n",
       " 'Mass:': '6.39 × 10^23 kg (0.11 Earths)',\n",
       " 'Moons:': '2 (Phobos & Deimos)',\n",
       " 'Orbit Distance:': '227,943,824 km (1.38 AU)',\n",
       " 'Orbit Period:': '687 days (1.9 years)',\n",
       " 'Surface Temperature:': '-87 to -5 °C',\n",
       " 'First Record:': '2nd millennium BC',\n",
       " 'Recorded By:': 'Egyptian astronomers'}"
      ]
     },
     "metadata": {},
     "execution_count": 30
    }
   ],
   "source": [
    "#### turn fact dataframe into a dictionary\n",
    "\n",
    "fact_dict=fact_df.to_dict(\"dict\")\n",
    "fact_dict[0]\n",
    "fact_dict[0][0]\n",
    "\n",
    "final_fact_dict={}\n",
    "\n",
    "for b in range(len(fact_df)):\n",
    "    final_fact_dict[fact_dict[0][b]]=fact_dict[1][b]\n",
    "\n",
    "final_fact_dict\n",
    "    "
   ]
  },
  {
   "cell_type": "code",
   "execution_count": null,
   "metadata": {},
   "outputs": [],
   "source": []
  }
 ]
}