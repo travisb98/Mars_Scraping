{
 "metadata": {
  "language_info": {
   "codemirror_mode": {
    "name": "ipython",
    "version": 3
   },
   "file_extension": ".py",
   "mimetype": "text/x-python",
   "name": "python",
   "nbconvert_exporter": "python",
   "pygments_lexer": "ipython3",
   "version": "3.6.10-final"
  },
  "orig_nbformat": 2,
  "kernelspec": {
   "name": "python3",
   "display_name": "Python 3.6.10 64-bit ('PythonData': conda)",
   "metadata": {
    "interpreter": {
     "hash": "7e7c916c673641125590bd307b68bb4342787996dc085909d7e5c72ee4d13010"
    }
   }
  }
 },
 "nbformat": 4,
 "nbformat_minor": 2,
 "cells": [
  {
   "cell_type": "code",
   "execution_count": 1,
   "metadata": {},
   "outputs": [],
   "source": [
    "from splinter import Browser\n",
    "from bs4 import BeautifulSoup as bs\n",
    "import pandas as pd\n",
    "import pprint"
   ]
  },
  {
   "cell_type": "code",
   "execution_count": 2,
   "metadata": {},
   "outputs": [],
   "source": [
    "nasa_news_url = \"https://mars.nasa.gov/news/?page=0&per_page=40&order=publish_date+desc%2Ccreated_at+desc&search=&category=19%2C165%2C184%2C204&blank_scope=Latest\""
   ]
  },
  {
   "cell_type": "code",
   "execution_count": 3,
   "metadata": {},
   "outputs": [],
   "source": [
    "#using splinter since requests is only returning partial results\n",
    "executable_path = {'executable_path': \"C:/Program Files (x86)/Chrome Driver/chromedriver.exe\"}\n",
    "\n",
    "browser = Browser('chrome', executable_path, headless=False)\n"
   ]
  },
  {
   "cell_type": "code",
   "execution_count": 4,
   "metadata": {
    "tags": []
   },
   "outputs": [],
   "source": [
    "#opening browser tp the nasa news website\n",
    "nasa_news_browser.visit(nasa_news_url)\n",
    "\n",
    "#extracting html\n",
    "nasa_news_html=nasa_news_browser.html\n",
    "nasa_news_browser.quit()"
   ]
  },
  {
   "cell_type": "code",
   "execution_count": 5,
   "metadata": {},
   "outputs": [],
   "source": [
    "#parsing the html\n",
    "nasa_news_soup=bs(nasa_news_html,'html.parser')"
   ]
  },
  {
   "cell_type": "code",
   "execution_count": 6,
   "metadata": {
    "tags": []
   },
   "outputs": [
    {
     "output_type": "stream",
     "name": "stdout",
     "text": [
      "The symbols, mottos, and small objects added to the agency's newest Mars rover serve a variety of purposes, from functional to decorative.5 Hidden Gems Are Riding Aboard NASA's Perseverance RoverDecember  8, 20205 Hidden Gems Are Riding Aboard NASA's Perseverance RoverThe symbols, mottos, and small objects added to the agency's newest Mars rover serve a variety of purposes, from functional to decorative.\n"
     ]
    }
   ],
   "source": [
    "#finds the list in the html which contains the article titles and paragraphs we seek\n",
    "articles=nasa_news_soup.find(class_=\"item_list\")\n",
    "\n",
    "#creates a dictionary with a basic index as the key and the title & paragraphs as keys\n",
    "art_dict={count:[item.find(class_=\"content_title\").text,item.text] for count,item in enumerate(articles)}\n",
    "print(art_dict[0][1])"
   ]
  },
  {
   "cell_type": "code",
   "execution_count": null,
   "metadata": {},
   "outputs": [],
   "source": [
    "### getting the image url from the jpl site"
   ]
  }
 ]
}